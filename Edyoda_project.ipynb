{
 "cells": [
  {
   "cell_type": "markdown",
   "id": "6f73acef",
   "metadata": {},
   "source": [
    "# Describe any project what you have done in Edyoda? (Write in 100 words)"
   ]
  },
  {
   "cell_type": "markdown",
   "id": "99c45b63",
   "metadata": {},
   "source": [
    "I have done some projects in Edyoda. For like, the Movie Booking system, and food ordering system. I would like to let you know about the Food Ordering system which is my favorite Project I have done. In this Project, we have some the features like registering admin, login admin, adding new food, and also, if there have any discounts so, we have a discount feature where we get about discount then we have an available stock feature. If the customer wants to edit the foods we also have that option after all these lists of food items and the remove food feature. In this system first, we have to register the name of the user and all details of the user then, we can show them options to choose and buy the foods they want."
   ]
  }
 ],
 "metadata": {
  "kernelspec": {
   "display_name": "Python 3 (ipykernel)",
   "language": "python",
   "name": "python3"
  },
  "language_info": {
   "codemirror_mode": {
    "name": "ipython",
    "version": 3
   },
   "file_extension": ".py",
   "mimetype": "text/x-python",
   "name": "python",
   "nbconvert_exporter": "python",
   "pygments_lexer": "ipython3",
   "version": "3.11.0"
  }
 },
 "nbformat": 4,
 "nbformat_minor": 5
}
