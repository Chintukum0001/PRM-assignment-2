{
 "cells": [
  {
   "cell_type": "markdown",
   "id": "1083eacd",
   "metadata": {},
   "source": [
    "# Tell me about yourself? (Write in 200 Words)."
   ]
  },
  {
   "cell_type": "markdown",
   "id": "348c0239",
   "metadata": {},
   "source": [
    "Myself Yuvraj Kumar I am 23 years old. Live in Kota Rajasthan. I have done my Schooling at Kendra Vidyalaya Baroda after that I completed my Polytechnic degree from Gujarat Technological University. In addition, I am doing a Data Scientists course from A reported University ( Edyoda Digital University ) which is located in Bengaluru and I am taking this course Online mode. I have learned about Python, MYSQL, Basic AWS, Power BI for Data Visualization, and Machine learning. Apart from that, I also have 2 years of work experience In the Mechanical sector as a Mechanical Supervisor that was contract-based work. In Information Technology I have 1 month of Internship Experience as a Data Analyst at Wealth Wisdom India Pvt Ltd here I upgrade My Data Analyst skill where I used the Power Bi tool to deal with the data. My responsibility was to make Finance reports and Sales reports and also, to manipulate the data for analyzing useful data for the company. However, Something about my family we are a total of 5 members in my family. My Father, Mother, and 2 elder brothers. My father does work with the government of India and My Mother is a housewife."
   ]
  }
 ],
 "metadata": {
  "kernelspec": {
   "display_name": "Python 3 (ipykernel)",
   "language": "python",
   "name": "python3"
  },
  "language_info": {
   "codemirror_mode": {
    "name": "ipython",
    "version": 3
   },
   "file_extension": ".py",
   "mimetype": "text/x-python",
   "name": "python",
   "nbconvert_exporter": "python",
   "pygments_lexer": "ipython3",
   "version": "3.11.0"
  }
 },
 "nbformat": 4,
 "nbformat_minor": 5
}
